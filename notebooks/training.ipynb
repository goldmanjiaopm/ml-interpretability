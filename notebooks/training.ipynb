{
 "cells": [
  {
   "cell_type": "code",
   "execution_count": 1,
   "metadata": {},
   "outputs": [],
   "source": [
    "import sys\n",
    "from pathlib import Path\n",
    "\n",
    "project_root = str(Path.cwd().parent)\n",
    "if project_root not in sys.path:\n",
    "    sys.path.append(project_root)\n",
    "\n"
   ]
  },
  {
   "cell_type": "code",
   "execution_count": 2,
   "metadata": {},
   "outputs": [],
   "source": [
    "import pandas as pd\n",
    "import matplotlib.pyplot as plt\n",
    "import seaborn as sns\n",
    "\n",
    "from sklearn.metrics import confusion_matrix, classification_report\n",
    "from src.training_pipeline.train import train_and_evaluate, load_processed_data, load_model_config, get_model, evaluate_model\n"
   ]
  },
  {
   "cell_type": "code",
   "execution_count": 3,
   "metadata": {},
   "outputs": [
    {
     "name": "stdout",
     "output_type": "stream",
     "text": [
      "   tfidf_aaa  tfidf_aarp  tfidf_abbott  tfidf_abele  tfidf_ability  \\\n",
      "0        0.0         0.0           0.0          0.0            0.0   \n",
      "1        0.0         0.0           0.0          0.0            0.0   \n",
      "2        0.0         0.0           0.0          0.0            0.0   \n",
      "3        0.0         0.0           0.0          0.0            0.0   \n",
      "4        0.0         0.0           0.0          0.0            0.0   \n",
      "\n",
      "   tfidf_able  tfidf_abolish  tfidf_abolishing  tfidf_abortion  \\\n",
      "0         0.0            0.0               0.0             0.0   \n",
      "1         0.0            0.0               0.0             0.0   \n",
      "2         0.0            0.0               0.0             0.0   \n",
      "3         0.0            0.0               0.0             0.0   \n",
      "4         0.0            0.0               0.0             0.0   \n",
      "\n",
      "   tfidf_abortions  ...  unions  urban  veterans  voting-record  water  \\\n",
      "0              0.0  ...       0      0         0              0      0   \n",
      "1              0.0  ...       0      0         0              0      0   \n",
      "2              0.0  ...       0      0         0              0      0   \n",
      "3              0.0  ...       0      0         0              0      0   \n",
      "4              0.0  ...       0      0         0              0      0   \n",
      "\n",
      "   wealth  weather  welfare  women  workers  \n",
      "0       0        0        0      0        0  \n",
      "1       0        0        0      0        0  \n",
      "2       0        0        0      0        0  \n",
      "3       0        0        0      0        0  \n",
      "4       0        0        0      0        0  \n",
      "\n",
      "[5 rows x 5142 columns]\n",
      "0    2\n",
      "1    2\n",
      "2    1\n",
      "3    0\n",
      "4    4\n",
      "Name: Labels, dtype: int64\n",
      "Training data shape: (8192, 5142)\n",
      "Training data labels: (8192,)\n",
      "Validation data shape: (2048, 5142)\n",
      "Validation data labels: (2048,)\n"
     ]
    }
   ],
   "source": [
    "# Load the processed data\n",
    "train_features, train_labels, val_features, val_labels = load_processed_data()\n",
    "\n",
    "print(train_features.head())\n",
    "print(train_labels.head())\n",
    "\n",
    "print(\"Training data shape:\", train_features.shape)\n",
    "print(\"Training data labels:\", train_labels.shape)\n",
    "print(\"Validation data shape:\", val_features.shape)\n",
    "print(\"Validation data labels:\", val_labels.shape)\n"
   ]
  },
  {
   "cell_type": "code",
   "execution_count": 5,
   "metadata": {},
   "outputs": [
    {
     "name": "stdout",
     "output_type": "stream",
     "text": [
      "Model Metrics:\n",
      "0:\n",
      "  precision: 0.0000\n",
      "  recall: 0.0000\n",
      "  f1-score: 0.0000\n",
      "  support: 331.0000\n",
      "1:\n",
      "  precision: 0.2208\n",
      "  recall: 0.1328\n",
      "  f1-score: 0.1659\n",
      "  support: 399.0000\n",
      "2:\n",
      "  precision: 0.2052\n",
      "  recall: 0.7991\n",
      "  f1-score: 0.3266\n",
      "  support: 423.0000\n",
      "3:\n",
      "  precision: 0.2857\n",
      "  recall: 0.1122\n",
      "  f1-score: 0.1612\n",
      "  support: 392.0000\n",
      "4:\n",
      "  precision: 1.0000\n",
      "  recall: 0.0060\n",
      "  f1-score: 0.0118\n",
      "  support: 168.0000\n",
      "5:\n",
      "  precision: 0.2000\n",
      "  recall: 0.0030\n",
      "  f1-score: 0.0059\n",
      "  support: 335.0000\n",
      "accuracy: 0.2134\n",
      "macro avg:\n",
      "  precision: 0.3186\n",
      "  recall: 0.1755\n",
      "  f1-score: 0.1119\n",
      "  support: 2048.0000\n",
      "weighted avg:\n",
      "  precision: 0.2548\n",
      "  recall: 0.2134\n",
      "  f1-score: 0.1326\n",
      "  support: 2048.0000\n"
     ]
    }
   ],
   "source": [
    "# Train and evaluate the model\n",
    "\n",
    "config_path = Path(project_root) / \"src/training_pipeline/configs/model_configs.yaml\"\n",
    "\n",
    "configs = load_model_config(config_path)\n",
    "model = get_model(\"random_forest\", configs[\"random_forest\"])\n",
    "model.train(train_features, train_labels)\n",
    "metrics = evaluate_model(model, val_features, val_labels)\n",
    "\n",
    "# Display metrics\n",
    "print(\"Model Metrics:\")\n",
    "\n",
    "for label, label_scores in metrics.items():\n",
    "    if isinstance(label_scores, dict):\n",
    "        print(f\"{label}:\")\n",
    "        for metric, value in label_scores.items():\n",
    "            print(f\"  {metric}: {value:.4f}\")\n",
    "    else:\n",
    "        print(f\"{label}: {label_scores:.4f}\")"
   ]
  },
  {
   "cell_type": "code",
   "execution_count": null,
   "metadata": {},
   "outputs": [],
   "source": [
    "\n",
    "\n"
   ]
  },
  {
   "cell_type": "code",
   "execution_count": null,
   "metadata": {},
   "outputs": [],
   "source": []
  }
 ],
 "metadata": {
  "kernelspec": {
   "display_name": "venv",
   "language": "python",
   "name": "python3"
  },
  "language_info": {
   "codemirror_mode": {
    "name": "ipython",
    "version": 3
   },
   "file_extension": ".py",
   "mimetype": "text/x-python",
   "name": "python",
   "nbconvert_exporter": "python",
   "pygments_lexer": "ipython3",
   "version": "3.10.16"
  }
 },
 "nbformat": 4,
 "nbformat_minor": 2
}
