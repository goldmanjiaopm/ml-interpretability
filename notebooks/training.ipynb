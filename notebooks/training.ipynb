{
 "cells": [
  {
   "cell_type": "code",
   "execution_count": 1,
   "metadata": {},
   "outputs": [],
   "source": [
    "import sys\n",
    "from pathlib import Path\n",
    "\n",
    "project_root = str(Path.cwd().parent)\n",
    "if project_root not in sys.path:\n",
    "    sys.path.append(project_root)\n",
    "\n",
    "\n"
   ]
  },
  {
   "cell_type": "code",
   "execution_count": null,
   "metadata": {},
   "outputs": [],
   "source": [
    "import pandas as pd\n",
    "import matplotlib.pyplot as plt\n",
    "import seaborn as sns\n",
    "\n",
    "from sklearn.metrics import confusion_matrix, classification_report\n",
    "from src.training_pipeline.train import train_and_evaluate, load_processed_data, load_model_config, get_model, evaluate_model\n"
   ]
  },
  {
   "cell_type": "code",
   "execution_count": null,
   "metadata": {},
   "outputs": [],
   "source": [
    "# Load the processed data\n",
    "train_features, train_labels, val_features, val_labels = load_processed_data()\n",
    "\n",
    "print(train_features.head())\n",
    "print(train_labels.head())\n",
    "\n",
    "print(\"Training data shape:\", train_features.shape)\n",
    "print(\"Training data labels:\", train_labels.shape)\n",
    "print(\"Validation data shape:\", val_features.shape)\n",
    "print(\"Validation data labels:\", val_labels.shape)\n"
   ]
  },
  {
   "cell_type": "code",
   "execution_count": null,
   "metadata": {},
   "outputs": [],
   "source": [
    "# Train and evaluate the model\n",
    "\n",
    "config_path = Path(project_root) / \"src/training_pipeline/configs/model_configs.yaml\"\n",
    "metrics = train_and_evaluate(\"random_forest\", config_path, tune=True, n_trials=1)\n",
    "# configs = load_model_config(config_path)\n",
    "# model = get_model(\"random_forest\", configs[\"random_forest\"])\n",
    "# model.train(train_features, train_labels)\n",
    "# metrics = evaluate_model(model, val_features, val_labels)\n",
    "\n",
    "# Display metrics\n",
    "print(\"Model Metrics:\")\n",
    "\n",
    "for label, label_scores in metrics.items():\n",
    "    if isinstance(label_scores, dict):\n",
    "        print(f\"{label}:\")\n",
    "        for metric, value in label_scores.items():\n",
    "            print(f\"  {metric}: {value:.4f}\")\n",
    "    else:\n",
    "        print(f\"{label}: {label_scores:.4f}\")"
   ]
  },
  {
   "cell_type": "code",
   "execution_count": null,
   "metadata": {},
   "outputs": [],
   "source": [
    "\n",
    "\n"
   ]
  },
  {
   "cell_type": "code",
   "execution_count": null,
   "metadata": {},
   "outputs": [],
   "source": []
  }
 ],
 "metadata": {
  "kernelspec": {
   "display_name": "venv",
   "language": "python",
   "name": "python3"
  },
  "language_info": {
   "codemirror_mode": {
    "name": "ipython",
    "version": 3
   },
   "file_extension": ".py",
   "mimetype": "text/x-python",
   "name": "python",
   "nbconvert_exporter": "python",
   "pygments_lexer": "ipython3",
   "version": "3.10.16"
  }
 },
 "nbformat": 4,
 "nbformat_minor": 2
}
